{
 "cells": [
  {
   "cell_type": "code",
   "execution_count": null,
   "metadata": {},
   "outputs": [
    {
     "data": {
      "application/vnd.jupyter.widget-view+json": {
       "model_id": "995a442b0f28498593799f05e3563375",
       "version_major": 2,
       "version_minor": 0
      },
      "text/plain": [
       "config.json:   0%|          | 0.00/1.38k [00:00<?, ?B/s]"
      ]
     },
     "metadata": {},
     "output_type": "display_data"
    },
    {
     "name": "stderr",
     "output_type": "stream",
     "text": [
      "c:\\Users\\bhave\\anaconda3\\envs\\Medimix\\lib\\site-packages\\huggingface_hub\\file_download.py:140: UserWarning: `huggingface_hub` cache-system uses symlinks by default to efficiently store duplicated files but your machine does not support them in C:\\Users\\bhave\\.cache\\huggingface\\hub\\models--Bhaveen--500medimix. Caching files will still work but in a degraded version that might require more space on your disk. This warning can be disabled by setting the `HF_HUB_DISABLE_SYMLINKS_WARNING` environment variable. For more details, see https://huggingface.co/docs/huggingface_hub/how-to-cache#limitations.\n",
      "To support symlinks on Windows, you either need to activate Developer Mode or to run Python as an administrator. In order to activate developer mode, see this article: https://docs.microsoft.com/en-us/windows/apps/get-started/enable-your-device-for-development\n",
      "  warnings.warn(message)\n"
     ]
    },
    {
     "data": {
      "application/vnd.jupyter.widget-view+json": {
       "model_id": "e4e4e9813af749e5b4cb54f9e75561e5",
       "version_major": 2,
       "version_minor": 0
      },
      "text/plain": [
       "model.safetensors:   0%|          | 0.00/967M [00:00<?, ?B/s]"
      ]
     },
     "metadata": {},
     "output_type": "display_data"
    },
    {
     "data": {
      "application/vnd.jupyter.widget-view+json": {
       "model_id": "04e4a148ede84cb0bbaa75056f74ea58",
       "version_major": 2,
       "version_minor": 0
      },
      "text/plain": [
       "generation_config.json:   0%|          | 0.00/3.79k [00:00<?, ?B/s]"
      ]
     },
     "metadata": {},
     "output_type": "display_data"
    },
    {
     "data": {
      "application/vnd.jupyter.widget-view+json": {
       "model_id": "18f1818211914716a24a161e28ebaa29",
       "version_major": 2,
       "version_minor": 0
      },
      "text/plain": [
       "tokenizer_config.json:   0%|          | 0.00/283k [00:00<?, ?B/s]"
      ]
     },
     "metadata": {},
     "output_type": "display_data"
    },
    {
     "data": {
      "application/vnd.jupyter.widget-view+json": {
       "model_id": "8d523ef9d9264acd8f1f220e6ad4eb19",
       "version_major": 2,
       "version_minor": 0
      },
      "text/plain": [
       "vocab.json:   0%|          | 0.00/1.04M [00:00<?, ?B/s]"
      ]
     },
     "metadata": {},
     "output_type": "display_data"
    },
    {
     "data": {
      "application/vnd.jupyter.widget-view+json": {
       "model_id": "dbe47f6d8d744e8da9d5ab1932739f6c",
       "version_major": 2,
       "version_minor": 0
      },
      "text/plain": [
       "merges.txt:   0%|          | 0.00/494k [00:00<?, ?B/s]"
      ]
     },
     "metadata": {},
     "output_type": "display_data"
    },
    {
     "data": {
      "application/vnd.jupyter.widget-view+json": {
       "model_id": "59e43d3757e54966ad56d69378f9c69f",
       "version_major": 2,
       "version_minor": 0
      },
      "text/plain": [
       "normalizer.json:   0%|          | 0.00/52.7k [00:00<?, ?B/s]"
      ]
     },
     "metadata": {},
     "output_type": "display_data"
    },
    {
     "data": {
      "application/vnd.jupyter.widget-view+json": {
       "model_id": "5dceaf01a3ad4e6499e4b25f4b621446",
       "version_major": 2,
       "version_minor": 0
      },
      "text/plain": [
       "added_tokens.json:   0%|          | 0.00/34.6k [00:00<?, ?B/s]"
      ]
     },
     "metadata": {},
     "output_type": "display_data"
    },
    {
     "data": {
      "application/vnd.jupyter.widget-view+json": {
       "model_id": "d62469e665794deea97394cdc6fe0598",
       "version_major": 2,
       "version_minor": 0
      },
      "text/plain": [
       "special_tokens_map.json:   0%|          | 0.00/2.19k [00:00<?, ?B/s]"
      ]
     },
     "metadata": {},
     "output_type": "display_data"
    },
    {
     "data": {
      "application/vnd.jupyter.widget-view+json": {
       "model_id": "227b43ae15704ef79b31bfe143f32b17",
       "version_major": 2,
       "version_minor": 0
      },
      "text/plain": [
       "preprocessor_config.json:   0%|          | 0.00/339 [00:00<?, ?B/s]"
      ]
     },
     "metadata": {},
     "output_type": "display_data"
    },
    {
     "name": "stderr",
     "output_type": "stream",
     "text": [
      "Device set to use cuda:0\n"
     ]
    }
   ],
   "source": [
    "\n",
    "from transformers import pipeline\n",
    "\n",
    "#set device\n",
    "device = 0\n",
    "\n",
    "\n",
    "\n",
    "\n",
    "# audio_file=r\"C:\\Users\\gteja\\Downloads\\medical_audio_file.mp3\"\n",
    "\n",
    "pipe = pipeline(model='Bhaveen/Medical-Speech-Transcription-Whisper-Small-Fine-Tuned', device=device,return_timestamps=True)"
   ]
  },
  {
   "cell_type": "code",
   "execution_count": 10,
   "metadata": {},
   "outputs": [
    {
     "name": "stdout",
     "output_type": "stream",
     "text": [
      " Yes. Four is what? Costectomy, left rear assist. All right, let's do it. Thank you. What is the history? Line base negative. Levered is fine. Spleen is fine. Gall butter. No, sorry, we're going to go to FOSSA. can we call it Dectomy, pancreas is fine, thumbtack is fine, mobile loops are fine. Just add them. Add three cinema left re-assist. I'll bring it up. A very simple system. It's 15HU. Okay. Oh, before we do that. Rheumatism, erinormal cell monosidicization. IVC endomarcoval, no brainer. Opethyriacine normal. Left kidney normal, but at assist. comparison stable. Emily Sengit, chest to views. Zero, orange. Raoul, P.A.5. Left ankle. Right knee, 0-1-2. foot zero one two All fractures neck of third worth of fifth no terms of bonds Right needs a one one.\n"
     ]
    }
   ],
   "source": [
    "print(output['text'])"
   ]
  },
  {
   "cell_type": "code",
   "execution_count": null,
   "metadata": {},
   "outputs": [
    {
     "name": "stderr",
     "output_type": "stream",
     "text": [
      "Device set to use cuda:0\n"
     ]
    },
    {
     "ename": "ValueError",
     "evalue": "The default Firebase app already exists. This means you called initialize_app() more than once without providing an app name as the second argument. In most cases you only need to call initialize_app() once. But if you do want to initialize multiple apps, pass a second argument to initialize_app() to give each app a unique name.",
     "output_type": "error",
     "traceback": [
      "\u001b[1;31m---------------------------------------------------------------------------\u001b[0m",
      "\u001b[1;31mValueError\u001b[0m                                Traceback (most recent call last)",
      "Cell \u001b[1;32mIn[7], line 23\u001b[0m\n\u001b[0;32m     19\u001b[0m pipe \u001b[38;5;241m=\u001b[39m pipeline(model\u001b[38;5;241m=\u001b[39m\u001b[38;5;124m'\u001b[39m\u001b[38;5;124mBhaveen/500medimix\u001b[39m\u001b[38;5;124m'\u001b[39m, device\u001b[38;5;241m=\u001b[39mdevice,return_timestamps\u001b[38;5;241m=\u001b[39m\u001b[38;5;28;01mTrue\u001b[39;00m)\n\u001b[0;32m     22\u001b[0m cred \u001b[38;5;241m=\u001b[39m credentials\u001b[38;5;241m.\u001b[39mCertificate(\u001b[38;5;124m'\u001b[39m\u001b[38;5;124mFirebase/credentials_new.json\u001b[39m\u001b[38;5;124m'\u001b[39m)\n\u001b[1;32m---> 23\u001b[0m \u001b[43mfirebase_admin\u001b[49m\u001b[38;5;241;43m.\u001b[39;49m\u001b[43minitialize_app\u001b[49m\u001b[43m(\u001b[49m\n\u001b[0;32m     24\u001b[0m \u001b[43m    \u001b[49m\u001b[43mcred\u001b[49m\u001b[43m,\u001b[49m\n\u001b[0;32m     25\u001b[0m \u001b[43m    \u001b[49m\u001b[43m{\u001b[49m\u001b[38;5;124;43m'\u001b[39;49m\u001b[38;5;124;43mdatabaseURL\u001b[39;49m\u001b[38;5;124;43m'\u001b[39;49m\u001b[43m \u001b[49m\u001b[43m:\u001b[49m\u001b[43m \u001b[49m\u001b[38;5;124;43m'\u001b[39;49m\u001b[38;5;124;43mhttps://dr-writely-default-rtdb.asia-southeast1.firebasedatabase.app/\u001b[39;49m\u001b[38;5;124;43m'\u001b[39;49m\u001b[43m,\u001b[49m\u001b[38;5;124;43m'\u001b[39;49m\u001b[38;5;124;43mstorageBucket\u001b[39;49m\u001b[38;5;124;43m'\u001b[39;49m\u001b[43m:\u001b[49m\u001b[43m \u001b[49m\u001b[38;5;124;43m'\u001b[39;49m\u001b[38;5;124;43mdr-writely.appspot.com\u001b[39;49m\u001b[38;5;124;43m'\u001b[39;49m\u001b[43m}\u001b[49m\n\u001b[0;32m     26\u001b[0m \u001b[43m)\u001b[49m\n\u001b[0;32m     28\u001b[0m bucket \u001b[38;5;241m=\u001b[39m storage\u001b[38;5;241m.\u001b[39mbucket()\n",
      "File \u001b[1;32m~\\AppData\\Roaming\\Python\\Python312\\site-packages\\firebase_admin\\__init__.py:74\u001b[0m, in \u001b[0;36minitialize_app\u001b[1;34m(credential, options, name)\u001b[0m\n\u001b[0;32m     71\u001b[0m         \u001b[38;5;28;01mreturn\u001b[39;00m app\n\u001b[0;32m     73\u001b[0m \u001b[38;5;28;01mif\u001b[39;00m name \u001b[38;5;241m==\u001b[39m _DEFAULT_APP_NAME:\n\u001b[1;32m---> 74\u001b[0m     \u001b[38;5;28;01mraise\u001b[39;00m \u001b[38;5;167;01mValueError\u001b[39;00m((\n\u001b[0;32m     75\u001b[0m         \u001b[38;5;124m'\u001b[39m\u001b[38;5;124mThe default Firebase app already exists. This means you called \u001b[39m\u001b[38;5;124m'\u001b[39m\n\u001b[0;32m     76\u001b[0m         \u001b[38;5;124m'\u001b[39m\u001b[38;5;124minitialize_app() more than once without providing an app name as \u001b[39m\u001b[38;5;124m'\u001b[39m\n\u001b[0;32m     77\u001b[0m         \u001b[38;5;124m'\u001b[39m\u001b[38;5;124mthe second argument. In most cases you only need to call \u001b[39m\u001b[38;5;124m'\u001b[39m\n\u001b[0;32m     78\u001b[0m         \u001b[38;5;124m'\u001b[39m\u001b[38;5;124minitialize_app() once. But if you do want to initialize multiple \u001b[39m\u001b[38;5;124m'\u001b[39m\n\u001b[0;32m     79\u001b[0m         \u001b[38;5;124m'\u001b[39m\u001b[38;5;124mapps, pass a second argument to initialize_app() to give each app \u001b[39m\u001b[38;5;124m'\u001b[39m\n\u001b[0;32m     80\u001b[0m         \u001b[38;5;124m'\u001b[39m\u001b[38;5;124ma unique name.\u001b[39m\u001b[38;5;124m'\u001b[39m))\n\u001b[0;32m     82\u001b[0m \u001b[38;5;28;01mraise\u001b[39;00m \u001b[38;5;167;01mValueError\u001b[39;00m((\n\u001b[0;32m     83\u001b[0m     \u001b[38;5;124m'\u001b[39m\u001b[38;5;124mFirebase app named \u001b[39m\u001b[38;5;124m\"\u001b[39m\u001b[38;5;132;01m{0}\u001b[39;00m\u001b[38;5;124m\"\u001b[39m\u001b[38;5;124m already exists. This means you called \u001b[39m\u001b[38;5;124m'\u001b[39m\n\u001b[0;32m     84\u001b[0m     \u001b[38;5;124m'\u001b[39m\u001b[38;5;124minitialize_app() more than once with the same app name as the \u001b[39m\u001b[38;5;124m'\u001b[39m\n\u001b[0;32m     85\u001b[0m     \u001b[38;5;124m'\u001b[39m\u001b[38;5;124msecond argument. Make sure you provide a unique name every time \u001b[39m\u001b[38;5;124m'\u001b[39m\n\u001b[0;32m     86\u001b[0m     \u001b[38;5;124m'\u001b[39m\u001b[38;5;124myou call initialize_app().\u001b[39m\u001b[38;5;124m'\u001b[39m)\u001b[38;5;241m.\u001b[39mformat(name))\n",
      "\u001b[1;31mValueError\u001b[0m: The default Firebase app already exists. This means you called initialize_app() more than once without providing an app name as the second argument. In most cases you only need to call initialize_app() once. But if you do want to initialize multiple apps, pass a second argument to initialize_app() to give each app a unique name."
     ]
    }
   ],
   "source": [
    "from flask import Flask, render_template, request, jsonify\n",
    "import os\n",
    "from flask_cors import CORS\n",
    "import openai\n",
    "import datetime\n",
    "\n",
    "import firebase_admin\n",
    "from firebase_admin import db,storage,credentials\n",
    "import datetime\n",
    "import sys\n",
    "from Firebase.pdf import pdf_conv\n",
    "from Firebase.firebase_stuff import create_doctor_account, upload_pdf_to_bucket, download_prescription, login_firebase\n",
    "#from Firebase.pharmacist import pharmacist\n",
    "from Firebase.register_firebase import registration\n",
    "from Firebase.text_formatting import formatting\n",
    "from transformers import pipeline\n",
    "\n",
    "device = 0\n",
    "pipe = pipeline(model='Bhaveen/Medical-Speech-Transcription-Whisper-Small-Fine-Tuned', device=device,return_timestamps=True)\n",
    "\n",
    "\n",
    "cred = credentials.Certificate('Firebase/credentials_new.json')\n",
    "firebase_admin.initialize_app(\n",
    "    cred,\n",
    "    {'databaseURL' : 'https://dr-writely-default-rtdb.asia-southeast1.firebasedatabase.app/','storageBucket': 'dr-writely.appspot.com'}\n",
    ")\n",
    "\n",
    "bucket = storage.bucket()"
   ]
  },
  {
   "cell_type": "code",
   "execution_count": 43,
   "metadata": {},
   "outputs": [],
   "source": [
    "# patient name -> patient phno\n",
    "# date\n",
    "# diagnosis\n",
    "# medication\n",
    " \n",
    "def get_doctor(doc_name,db):\n",
    "    result = {}\n",
    "    refD = db.reference(f'/User/Doctor/{doc_name}')\n",
    "    refC = db.reference(f'/User/Patient')\n",
    "    ch = refD.get()\n",
    "    patients = [i for i in ch.keys()]\n",
    "    chP = refC.get()\n",
    "    for i,j in chP.items():\n",
    "        if i in patients:\n",
    "            for k in j:\n",
    "                temp_dict = {'patient_phno': '', 'Date': '', 'Diagnosis': '', 'medication': ''}\n",
    "                temp_dict['Date']=(j[k]['date'])\n",
    "                temp_dict['Diagnosis']=(j[k]['diagnosis'])\n",
    "                temp_dict['medication']=(j[k]['medication'])\n",
    "                temp_dict['patient_phno']=(i)\n",
    "                result[k] = temp_dict\n",
    "    print(result)\n",
    "\n",
    "\n",
    "    "
   ]
  },
  {
   "cell_type": "code",
   "execution_count": 44,
   "metadata": {},
   "outputs": [
    {
     "name": "stdout",
     "output_type": "stream",
     "text": [
      "{'202502012208': {'patient_phno': '9019942460', 'Date': '2025-02-01', 'Diagnosis': ' Clamydia (Chlamydia) infection  ', 'medication': [' azithromycin', ' single dose; doxycycline', ' 100 mg twice daily for 7 days  ']}}\n"
     ]
    }
   ],
   "source": [
    "get_doctor('Tejas',db)"
   ]
  },
  {
   "cell_type": "code",
   "execution_count": 87,
   "metadata": {},
   "outputs": [],
   "source": [
    "def get_patient(phno,db):\n",
    "    result = {}\n",
    "    refP = db.reference(f'/User/Patient/{phno}')\n",
    "    chP = refP.get()\n",
    "    refD = db.reference(f'/User/Doctor')\n",
    "    chD = refD.get()\n",
    "    appts = [i for i in chP.keys()]\n",
    "    print(appts)\n",
    "    for i,j in chD.items():\n",
    "        temp_dict = {'date':'','diagnosis':'','medication':[]}\n",
    "        if phno in list(j.keys()):\n",
    "            for k in appts:\n",
    "                print(j[phno][k])\n",
    "                if k in j[phno].keys():\n",
    "                    temp_dict['date'] = j[phno][k]['date']\n",
    "                    temp_dict['date'] = j[phno][k]['date']\n",
    "                    temp_dict['diagnosis'] = j[phno][k]['diagnosis']\n",
    "                    temp_dict['medication'] = j[phno][k]['medication']\n",
    "                    result[i].append(temp_dict)\n",
    "            \n",
    "\n"
   ]
  },
  {
   "cell_type": "code",
   "execution_count": null,
   "metadata": {},
   "outputs": [],
   "source": []
  },
  {
   "cell_type": "code",
   "execution_count": 88,
   "metadata": {},
   "outputs": [
    {
     "name": "stdout",
     "output_type": "stream",
     "text": [
      "['202502012208']\n",
      "{'date': '2025-02-01', 'transcript': ' Clamydia is a bacterial infection. Clamydia trachomatis causing genital pain, discharge or no symptoms. Treatment is azithromycin, single dose or doxicycline, 100 mg twice daily for 7 days. Partial treatment is advised.'}\n",
      "{}\n"
     ]
    }
   ],
   "source": [
    "get_patient('9019942460',db)"
   ]
  },
  {
   "cell_type": "code",
   "execution_count": 103,
   "metadata": {},
   "outputs": [
    {
     "name": "stdout",
     "output_type": "stream",
     "text": [
      "dict_keys(['9019942460', '9123456766', '9123456789', '9875684832'])\n",
      "Tejas\n"
     ]
    }
   ],
   "source": [
    "#ref1 = db.reference(f'/User/Doctor/{doctor}/{patient}')\n",
    "patient = '9019942460'\n",
    "ref2 = db.reference(f\"/User/Patient/{patient}\")\n",
    "refC = db.reference(f'/Creds')\n",
    "ch = refC.get()\n",
    "#print(ch.keys())\n",
    "user = [j for i,j in ch.items() if i in [patient]]\n",
    "print(user[0]['name'])\n",
    "# ref3 = db.reference(f\"/Pharm/{user}\")\n",
    "# chx = ref3.get('name')\n",
    "# print(chx)"
   ]
  },
  {
   "cell_type": "code",
   "execution_count": 104,
   "metadata": {},
   "outputs": [],
   "source": [
    "def get_pharmacist(db):\n",
    "    result = {}\n",
    "    refPharm = db.reference('/Creds')\n",
    "    ch = refPharm.get()\n",
    "    for i,j in ch.items():\n",
    "        result[i] = j\n",
    "    return result"
   ]
  },
  {
   "cell_type": "code",
   "execution_count": 105,
   "metadata": {},
   "outputs": [
    {
     "name": "stdout",
     "output_type": "stream",
     "text": [
      "{'9019942460': {'DOB': '30/01/2004', 'email': 'tejaslovespancakes0507@gmail.com', 'gender': 'fluid', 'name': 'Tejas', 'password': 'tejas', 'role': 'Patient'}, '9123456766': {'email': 'doctor@gmail.com', 'location': 'PES', 'name': 'reactor', 'password': 'abcd', 'role': 'doctor'}, '9123456789': {'dob': '2025-02-01', 'email': 'abc@gmail.com', 'gender': 'Fluid', 'name': 'John Doe', 'password': 'abc', 'role': 'patient'}, '9875684832': {'email': 'cock@gmail.com', 'location': 'PES', 'name': 'Jane Smith', 'password': 'abcde', 'role': 'pharmacist'}}\n"
     ]
    }
   ],
   "source": [
    "print(get_pharmacist(db))"
   ]
  },
  {
   "cell_type": "code",
   "execution_count": 112,
   "metadata": {},
   "outputs": [],
   "source": [
    "def get_doctor(doc_ph,db):\n",
    "    result = {}\n",
    "    refCred = db.reference(f'/Creds')\n",
    "    chx = refCred.get()\n",
    "    doc = [j for i,j in chx.items() if i in [doc_ph]]\n",
    "    print(doc)\n",
    "    doc_name = doc[0]['name']\n",
    "    refD = db.reference(f'/User/Doctor/{doc_name}')\n",
    "    refC = db.reference(f'/User/Patient')\n",
    "    ch = refD.get()\n",
    "    patients = [i for i in ch.keys()]\n",
    "    chP = refC.get()\n",
    "    for i,j in chP.items():\n",
    "        if i in patients:\n",
    "            for k in j:\n",
    "                temp_dict = {'patient_phno': '', 'Date': '', 'Diagnosis': '', 'medication': ''}\n",
    "                temp_dict['Date']=(j[k]['date'])\n",
    "                temp_dict['Diagnosis']=(j[k]['diagnosis'])\n",
    "                temp_dict['medication']=(j[k]['medication'])\n",
    "                temp_dict['patient_phno']=(i)\n",
    "                result[k] = temp_dict\n",
    "    return result"
   ]
  },
  {
   "cell_type": "code",
   "execution_count": 113,
   "metadata": {},
   "outputs": [
    {
     "name": "stdout",
     "output_type": "stream",
     "text": [
      "[{'email': 'doctor@gmail.com', 'location': 'PES', 'name': 'Tejas', 'password': 'abcd', 'role': 'doctor'}]\n",
      "{'202502012208': {'patient_phno': '9019942460', 'Date': '2025-02-01', 'Diagnosis': ' Clamydia (Chlamydia) infection  ', 'medication': [' azithromycin', ' single dose; doxycycline', ' 100 mg twice daily for 7 days  ']}, '202502012347': {'patient_phno': '9019942460', 'Date': '2025-02-01', 'Diagnosis': '\\tViral fever  ', 'medication': ['\\tParacetamol (500 to 650 mg)', ' Ibuprofen if needed  ']}, '202502012350': {'patient_phno': '9019942460', 'Date': '2025-02-01', 'Diagnosis': ' viral fever  ', 'medication': [' paracetamol 500-650 mg  ']}}\n"
     ]
    }
   ],
   "source": [
    "print(get_doctor('9123456766',db))"
   ]
  },
  {
   "cell_type": "code",
   "execution_count": null,
   "metadata": {},
   "outputs": [],
   "source": []
  }
 ],
 "metadata": {
  "kernelspec": {
   "display_name": "Medimix",
   "language": "python",
   "name": "python3"
  },
  "language_info": {
   "codemirror_mode": {
    "name": "ipython",
    "version": 3
   },
   "file_extension": ".py",
   "mimetype": "text/x-python",
   "name": "python",
   "nbconvert_exporter": "python",
   "pygments_lexer": "ipython3",
   "version": "3.10.16"
  }
 },
 "nbformat": 4,
 "nbformat_minor": 2
}
